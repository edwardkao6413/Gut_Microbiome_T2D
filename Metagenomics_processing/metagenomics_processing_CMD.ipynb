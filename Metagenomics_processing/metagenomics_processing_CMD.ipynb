{
 "cells": [
  {
   "cell_type": "code",
   "execution_count": null,
   "id": "0a9503f5",
   "metadata": {},
   "outputs": [],
   "source": [
    "import pandas as pd\n",
    "import numpy as np\n",
    "pd.set_option('display.max_columns', 50)\n",
    "pd.set_option('display.max_rows', 50)\n",
    "# import tabula\n",
    "import composition_stats as cs\n",
    "from pandasql import sqldf\n",
    "import math\n",
    "from scipy.stats import chi2\n",
    "from scipy import stats\n",
    "from matplotlib import pyplot as plt\n",
    "import re"
   ]
  },
  {
   "cell_type": "code",
   "execution_count": null,
   "id": "a7897598",
   "metadata": {},
   "outputs": [],
   "source": [
    "sample_md = pd.read_excel(r\"C:\\Users\\edwar\\Desktop\\Melbourne\\research_project\\HGMA_data\\sample_metadata.xlsx\")\n",
    "abund_data = pd.read_csv(r\"C:\\Users\\edwar\\Desktop\\Melbourne\\research_project\\HGMA_data\\vect_atlas.csv\\vect_atlas.csv\")\n",
    "corr_taxa = pd.read_csv(r\"C:\\Users\\edwar\\Desktop\\Melbourne\\research_project\\HGMA_data\\corresponding_taxa.csv\")"
   ]
  },
  {
   "cell_type": "code",
   "execution_count": null,
   "id": "23c2a52a",
   "metadata": {},
   "outputs": [],
   "source": [
    "corr_taxa = corr_taxa[~corr_taxa['name'].str.contains('unclassified')].reset_index(drop = True)\n",
    "multi_taxa = corr_taxa[corr_taxa['name'].str.contains(r\"\\s\\d$\")].reset_index(drop = True)\n",
    "multi_taxa['name'] = multi_taxa['name'].apply(lambda x : x[:-2])\n",
    "multi_taxa_lst = list(multi_taxa['name'].unique())\n",
    "\n",
    "## remember to update the disease type and BioProject code\n",
    "dataset_study = \"PRJEB1786\"   # PRJEB1786: should change the dataset here\n",
    "\n",
    "study2_metadata = sample_md[sample_md['BioProject'] == dataset_study].reset_index(drop = True)    \n",
    "metadata = study2_metadata\n",
    "metadata = metadata[metadata['Disease'].isin(['T2D', 'Healthy', 'NGT'])].reset_index(drop = True)\n",
    "sp_id = list(metadata['sample.ID'])\n",
    "rawdata = abund_data[sp_id + ['Unnamed: 0']]\n",
    "rawdata = rawdata.merge(corr_taxa, how = 'left', left_on = ['Unnamed: 0'], right_on = ['id']).drop(['Unnamed: 0', 'id'], axis = 1)\n",
    "rawdata = rawdata[rawdata['name'].isna() == False].reset_index(drop = True)\n",
    "\n",
    "taxa_lst = list(rawdata['name'])\n",
    "rawdata_v1 = rawdata.drop(['name'], axis = 1).T\n",
    "rawdata_v1.columns = taxa_lst\n",
    "rawdata_v1 = rawdata_v1.reset_index().rename(columns = {'index':'sample_id'})\n",
    "rawdata_v1 = rawdata_v1.merge(metadata[['sample.ID', 'Disease']], how = 'left', left_on = ['sample_id'], right_on = ['sample.ID']).drop(['sample.ID'], axis = 1)\n",
    "\n",
    "rawdata_v1 = rawdata_v1.rename(columns = {'Blautia coccoides == Blautia producta':'Blautia producta'})"
   ]
  },
  {
   "cell_type": "code",
   "execution_count": null,
   "id": "e8e1fd95",
   "metadata": {},
   "outputs": [],
   "source": [
    "# filtering out the inconsistent naming of taxa\n",
    "def check_main_species(lst):\n",
    "    contain_main_species = False\n",
    "    integers = [str(i) for i in range(1, 10)]\n",
    "    for sub in lst:\n",
    "        if sub[-1] not in integers:\n",
    "            contain_main_species = True\n",
    "            break\n",
    "    # True means it contains main species, False means all are subspecies which should sum them up in the next step\n",
    "    return contain_main_species\n",
    "\n",
    "for taxa in multi_taxa_lst:\n",
    "    if 'subtype' not in taxa.lower():\n",
    "        cols = list(rawdata_v1.columns)\n",
    "        rawdata_v1[taxa] = 0\n",
    "        alltaxa_columns = [col for col in cols if taxa in col]\n",
    "        if len(alltaxa_columns) == 1:\n",
    "            rawdata_v1[taxa] = rawdata_v1[alltaxa_columns[0]]\n",
    "\n",
    "        elif check_main_species(alltaxa_columns):\n",
    "            alltaxa_columns.remove(taxa)\n",
    "            rawdata_v1 = rawdata_v1.drop(alltaxa_columns, axis = 1)\n",
    "\n",
    "        else:\n",
    "            rawdata_v1[taxa] = rawdata_v1[alltaxa_columns].sum(axis = 1)\n",
    "            rawdata_v1 = rawdata_v1.drop(alltaxa_columns, axis = 1)"
   ]
  },
  {
   "cell_type": "code",
   "execution_count": null,
   "id": "f00e7c4f",
   "metadata": {},
   "outputs": [],
   "source": [
    "drop_cols = [taxa for taxa in list(rawdata_v1.columns)[1:-1] if (len(rawdata_v1[taxa].unique()) == 1) & (taxa != 'Disease')]\n",
    "rawdata_v2 = split_processing_single(rawdata_v1, thres = 0.0001); print(rawdata_v2.shape)"
   ]
  },
  {
   "cell_type": "code",
   "execution_count": null,
   "id": "459b5f8b",
   "metadata": {},
   "outputs": [],
   "source": []
  },
  {
   "cell_type": "code",
   "execution_count": null,
   "id": "d2e08a19",
   "metadata": {},
   "outputs": [],
   "source": []
  },
  {
   "cell_type": "code",
   "execution_count": null,
   "id": "daee99ab",
   "metadata": {},
   "outputs": [],
   "source": []
  }
 ],
 "metadata": {
  "language_info": {
   "name": "python"
  }
 },
 "nbformat": 4,
 "nbformat_minor": 5
}
